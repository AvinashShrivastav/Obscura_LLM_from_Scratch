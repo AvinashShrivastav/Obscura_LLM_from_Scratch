{
 "cells": [
  {
   "cell_type": "markdown",
   "id": "4ae4ccdc",
   "metadata": {},
   "source": [
    "# Chapter 1: Initial Setup and Dependencies"
   ]
  },
  {
   "cell_type": "code",
   "execution_count": 1,
   "id": "93db7714",
   "metadata": {},
   "outputs": [
    {
     "name": "stdout",
     "output_type": "stream",
     "text": [
      "Requirement already satisfied: uv in c:\\users\\itsme\\appdata\\local\\packages\\pythonsoftwarefoundation.python.3.11_qbz5n2kfra8p0\\localcache\\local-packages\\python311\\site-packages (0.5.9)\n"
     ]
    },
    {
     "name": "stderr",
     "output_type": "stream",
     "text": [
      "WARNING: Ignoring invalid distribution ~atplotlib (C:\\Users\\itsme\\AppData\\Local\\Packages\\PythonSoftwareFoundation.Python.3.11_qbz5n2kfra8p0\\LocalCache\\local-packages\\Python311\\site-packages)\n",
      "WARNING: Ignoring invalid distribution ~atplotlib (C:\\Users\\itsme\\AppData\\Local\\Packages\\PythonSoftwareFoundation.Python.3.11_qbz5n2kfra8p0\\LocalCache\\local-packages\\Python311\\site-packages)\n",
      "WARNING: Ignoring invalid distribution ~atplotlib (C:\\Users\\itsme\\AppData\\Local\\Packages\\PythonSoftwareFoundation.Python.3.11_qbz5n2kfra8p0\\LocalCache\\local-packages\\Python311\\site-packages)\n",
      "WARNING: Ignoring invalid distribution ~atplotlib (C:\\Users\\itsme\\AppData\\Local\\Packages\\PythonSoftwareFoundation.Python.3.11_qbz5n2kfra8p0\\LocalCache\\local-packages\\Python311\\site-packages)\n",
      "\n",
      "[notice] A new release of pip is available: 24.3.1 -> 25.1.1\n",
      "[notice] To update, run: C:\\Users\\itsme\\AppData\\Local\\Microsoft\\WindowsApps\\PythonSoftwareFoundation.Python.3.11_qbz5n2kfra8p0\\python.exe -m pip install --upgrade pip\n"
     ]
    },
    {
     "name": "stdout",
     "output_type": "stream",
     "text": [
      "\n"
     ]
    }
   ],
   "source": [
    "!pip install uv"
   ]
  },
  {
   "cell_type": "markdown",
   "id": "f7784ceb",
   "metadata": {
    "id": "qJGMYQS7A-I_"
   },
   "source": [
    "# Chapter 2: Working with text data"
   ]
  },
  {
   "cell_type": "code",
   "execution_count": 4,
   "id": "e2cec26c",
   "metadata": {},
   "outputs": [],
   "source": [
    "text = '''\n",
    "## Attention Is All You Need: A Paradigm Shift in Sequence Modeling\n",
    "\n",
    "The year 2017 marked a pivotal moment in the history of deep learning with the publication of the paper \"Attention Is All You Need\" by Vaswani et al. from Google Brain. This seminal work introduced the **Transformer** architecture, which completely revolutionized the field of **sequence modeling**, particularly in natural language processing (NLP). Prior to the Transformer, recurrent neural networks (RNNs) and their variants like LSTMs and GRUs were the dominant architectures for tasks involving sequential data. While effective, these models suffered from inherent limitations, most notably their sequential nature, which hindered parallelization and long-range dependency modeling. The Transformer, with its reliance solely on **attention mechanisms**, elegantly sidestepped these issues, paving the way for unprecedented advancements.\n",
    "\n",
    "### The Limitations of Recurrent Architectures\n",
    "\n",
    "Before delving into the brilliance of the Transformer, it's crucial to understand the challenges faced by its predecessors. RNNs process sequences one element at a time, feeding the hidden state from the previous step into the current one. This sequential dependency, while seemingly intuitive for sequences, created several bottlenecks:\n",
    "\n",
    "* **Lack of Parallelization:** Because each step depends on the previous one, RNNs cannot be fully parallelized during training. This significantly slowed down training times, especially for very long sequences.\n",
    "* **Vanishing/Exploding Gradients:** While LSTMs and GRUs alleviated this to some extent, the problem of vanishing or exploding gradients still made it difficult for RNNs to capture long-range dependencies effectively. Information from early parts of a long sequence could easily be diluted or lost by the time it reached the later parts.\n",
    "* **Fixed Context Window (Implicitly):** Although LSTMs have \"memory cells,\" their ability to retain information across very long distances was still limited, making it challenging to model relationships between distant words in a sentence or across paragraphs.\n",
    "\n",
    "### The Rise of Attention: A Glimmer of Hope\n",
    "\n",
    "The concept of **attention** wasn't entirely new in 2017. It had already been introduced and successfully applied in conjunction with RNNs, notably in machine translation tasks. In these \"encoder-decoder\" RNN models with attention, the attention mechanism allowed the decoder to selectively focus on different parts of the input sequence when generating an output. This was a significant improvement, enabling the model to \"attend\" to relevant input tokens, rather than trying to compress all information into a single fixed-size context vector. However, attention was still an add-on, enhancing an underlying recurrent structure.\n",
    "\n",
    "### The Radical Idea: Attention Is All You Need\n",
    "\n",
    "The true genius of the Transformer lay in its audacious claim: **recurrent and convolutional layers were unnecessary**. The entire architecture could be built purely on attention mechanisms. This was a radical departure, as convolutions and recurrences had been the bedrock of deep learning for sequence and image processing, respectively. The paper demonstrated that attention, when properly configured, could not only match but significantly surpass the performance of existing models on challenging tasks like machine translation.\n",
    "\n",
    "The core innovation of the Transformer is the **self-attention mechanism**, specifically **multi-head self-attention**. Instead of attending to an external sequence (as in encoder-decoder attention), self-attention allows each element in a sequence to attend to all other elements within the *same* sequence. This enables the model to weigh the importance of different words in understanding the meaning of a given word within its context. For example, in the sentence \"The animal didn't cross the street because it was too tired,\" self-attention helps the model understand that \"it\" refers to \"the animal.\"\n",
    "\n",
    "### Deconstructing the Transformer Architecture\n",
    "\n",
    "The Transformer architecture consists of an **encoder** and a **decoder**, each composed of multiple identical layers.\n",
    "\n",
    "#### Encoder:\n",
    "Each encoder layer has two sub-layers:\n",
    "1.  **Multi-Head Self-Attention:** This is where the magic happens. It allows the model to capture dependencies between different words in the input sequence. \"Multi-head\" means that the attention mechanism is run multiple times in parallel, each with different learned linear projections, allowing the model to attend to information from different representation subspaces at different positions. The outputs of these attention heads are then concatenated and linearly transformed.\n",
    "2.  **Feed-Forward Network:** A simple position-wise fully connected feed-forward network is applied independently to each position.\n",
    "\n",
    "Crucially, **residual connections** and **layer normalization** are used around each of these sub-layers. Residual connections help with gradient flow and enable deeper networks, while layer normalization stabilizes training.\n",
    "\n",
    "#### Decoder:\n",
    "The decoder also has multiple identical layers, but with an additional sub-layer:\n",
    "1.  **Masked Multi-Head Self-Attention:** Similar to the encoder's self-attention, but it's \"masked\" to prevent positions from attending to subsequent positions. This ensures that the prediction for a given position can only depend on known outputs at previous positions.\n",
    "2.  **Multi-Head Encoder-Decoder Attention:** This layer allows the decoder to attend to the output of the encoder. It works similarly to the attention mechanisms used in pre-Transformer RNN-based encoder-decoder models.\n",
    "3.  **Feed-Forward Network:** Same as in the encoder.\n",
    "\n",
    "#### Positional Encoding:\n",
    "Since the Transformer has no recurrence or convolution, it has no inherent notion of word order. To inject this sequential information, **positional encodings** are added to the input embeddings. These are fixed (sinusoidal functions) or learned embeddings that provide information about the absolute or relative position of each token in the sequence.\n",
    "\n",
    "### The Impact and Legacy\n",
    "\n",
    "The implications of \"Attention Is All You Need\" were profound and far-reaching:\n",
    "\n",
    "* **Superior Performance:** Transformers quickly achieved state-of-the-art results across a wide range of NLP tasks, from machine translation and text summarization to question answering and sentiment analysis.\n",
    "* **Parallelization and Scalability:** The non-sequential nature of the Transformer allowed for unprecedented parallelization during training, enabling the development of much larger and more powerful models. This was a critical factor in the rise of large pre-trained language models.\n",
    "* **Foundation for Large Language Models (LLMs):** The Transformer architecture is the bedrock of virtually all modern LLMs, including BERT, GPT (GPT-2, GPT-3, GPT-4, etc.), T5, LLaMA, and many more. These models, pre-trained on massive datasets, have demonstrated remarkable capabilities in understanding and generating human language, driving the current AI revolution.\n",
    "* **Transfer Learning:** The ability of Transformers to learn rich, contextualized representations made them ideal for **transfer learning**. Models pre-trained on vast amounts of text data could then be fine-tuned on smaller, task-specific datasets with excellent results, significantly reducing the need for large labeled datasets.\n",
    "* **Beyond NLP:** While initially designed for NLP, the success of Transformers has extended to other domains, including computer vision (e.g., Vision Transformers for image recognition), speech processing, and even reinforcement learning. This demonstrates the versatility and generalizability of the attention mechanism.\n",
    "\n",
    "### Challenges and Future Directions\n",
    "\n",
    "Despite its immense success, the Transformer architecture is not without its challenges:\n",
    "\n",
    "* **Computational Cost for Long Sequences:** The self-attention mechanism has a quadratic complexity with respect to the sequence length, meaning that as sequences get very long, the computational cost (both memory and processing time) becomes prohibitive. This is an active area of research, with efforts to develop more efficient attention mechanisms (e.g., sparse attention, linear attention, attention with local windows).\n",
    "* **Interpretability:** While attention weights can sometimes offer insights into what the model is focusing on, interpreting the complex interplay of multiple attention heads and deep layers remains a significant challenge.\n",
    "* **Bias:** Large language models built on Transformers can inherit and amplify biases present in their training data, leading to unfair or harmful outputs. Addressing these biases is a critical ongoing effort.\n",
    "* **Energy Consumption:** Training and running these massive Transformer models require substantial computational resources and energy, raising concerns about their environmental impact.\n",
    "\n",
    "### Conclusion\n",
    "\n",
    "\"Attention Is All You Need\" didn't just introduce a new architecture; it fundamentally reshaped our understanding of how to process sequential data in deep learning. By demonstrating the power and efficiency of attention mechanisms alone, it unleashed a wave of innovation that continues to drive progress in artificial intelligence. The Transformer's elegance, scalability, and ability to capture intricate dependencies have made it the de facto standard for sequence modeling, laying the groundwork for the era of large language models and pushing the boundaries of what machines can understand and generate. The journey is far from over, with researchers continuously refining and extending the Transformer's capabilities, ensuring that attention remains at the forefront of AI research for the foreseeable future.\n",
    "\n",
    "---'''"
   ]
  },
  {
   "cell_type": "code",
   "execution_count": 4,
   "id": "fa4b67c4",
   "metadata": {},
   "outputs": [],
   "source": [
    "with open('sample_data.txt', 'w') as f:\n",
    "    f.write(text)"
   ]
  },
  {
   "cell_type": "code",
   "execution_count": 5,
   "id": "729fd57f",
   "metadata": {},
   "outputs": [
    {
     "name": "stdout",
     "output_type": "stream",
     "text": [
      "Total number of character: 9728\n",
      "\n",
      "## Attention Is All You Need: A Paradigm Shift in Sequence Modeling\n",
      "\n",
      "The year 2017 marked a pivota\n"
     ]
    }
   ],
   "source": [
    "with open(\"sample_data.txt\", \"r\", encoding=\"utf-8\") as f:\n",
    "    raw_text = f.read()\n",
    "\n",
    "print(\"Total number of character:\", len(raw_text))\n",
    "print(raw_text[:99])"
   ]
  },
  {
   "cell_type": "code",
   "execution_count": 6,
   "id": "0e41b0f2",
   "metadata": {},
   "outputs": [
    {
     "name": "stdout",
     "output_type": "stream",
     "text": [
      "['Hello,', ' ', 'world.', ' ', 'This,', ' ', 'is', ' ', 'a', ' ', 'test.']\n"
     ]
    }
   ],
   "source": [
    "import re\n",
    "\n",
    "text = \"Hello, world. This, is a test.\"\n",
    "result = re.split(r'(\\s)', text)\n",
    "\n",
    "print(result)"
   ]
  },
  {
   "cell_type": "code",
   "execution_count": 7,
   "id": "ca9aba70",
   "metadata": {},
   "outputs": [
    {
     "name": "stdout",
     "output_type": "stream",
     "text": [
      "['Hello', ',', '', ' ', 'world', '.', '', ' ', 'This', ',', '', ' ', 'is', ' ', 'a', ' ', 'test', '.', '']\n"
     ]
    }
   ],
   "source": [
    "result = re.split(r'([,.]|\\s)', text)\n",
    "\n",
    "print(result)"
   ]
  },
  {
   "cell_type": "code",
   "execution_count": 8,
   "id": "441765d2",
   "metadata": {},
   "outputs": [
    {
     "name": "stdout",
     "output_type": "stream",
     "text": [
      "['Hello', ',', 'world', '.', 'This', ',', 'is', 'a', 'test', '.']\n"
     ]
    }
   ],
   "source": [
    "# Strip whitespace from each item and then filter out any empty strings.\n",
    "result = [item for item in result if item.strip()]\n",
    "print(result)"
   ]
  },
  {
   "cell_type": "code",
   "execution_count": 9,
   "id": "36330ef0",
   "metadata": {},
   "outputs": [
    {
     "name": "stdout",
     "output_type": "stream",
     "text": [
      "['Hello', ',', 'world', '.', 'Is', 'this', '--', 'a', 'test', '?']\n"
     ]
    }
   ],
   "source": [
    "text = \"Hello, world. Is this-- a test?\"\n",
    "\n",
    "result = re.split(r'([,.:;?_!\"()\\']|--|\\s)', text)\n",
    "result = [item.strip() for item in result if item.strip()]\n",
    "print(result)"
   ]
  },
  {
   "cell_type": "code",
   "execution_count": 10,
   "id": "987947aa",
   "metadata": {},
   "outputs": [
    {
     "name": "stdout",
     "output_type": "stream",
     "text": [
      "['##', 'Attention', 'Is', 'All', 'You', 'Need', ':', 'A', 'Paradigm', 'Shift', 'in', 'Sequence', 'Modeling', 'The', 'year', '2017', 'marked', 'a', 'pivotal', 'moment', 'in', 'the', 'history', 'of', 'deep', 'learning', 'with', 'the', 'publication', 'of']\n"
     ]
    }
   ],
   "source": [
    "preprocessed = re.split(r'([,.:;?_!\"()\\']|--|\\s)', raw_text)\n",
    "preprocessed = [item.strip() for item in preprocessed if item.strip()]\n",
    "print(preprocessed[:30])"
   ]
  },
  {
   "cell_type": "code",
   "execution_count": 11,
   "id": "0271b328",
   "metadata": {},
   "outputs": [
    {
     "name": "stdout",
     "output_type": "stream",
     "text": [
      "['##', 'Attention', 'Is', 'All', 'You', 'Need', ':', 'A', 'Paradigm', 'Shift', 'in', 'Sequence', 'Modeling', 'The', 'year', '2017', 'marked', 'a', 'pivotal', 'moment', 'in', 'the', 'history', 'of', 'deep', 'learning', 'with', 'the', 'publication', 'of']\n"
     ]
    }
   ],
   "source": [
    "#Mycode\n",
    "preprocessed = re.split(r'([,.:;?_!\"()\\']|\\*|--|\\s)', raw_text)\n",
    "preprocessed = [item.strip() for item in preprocessed if item.strip()]\n",
    "print(preprocessed[:30])"
   ]
  },
  {
   "cell_type": "code",
   "execution_count": 12,
   "id": "4546f13d",
   "metadata": {},
   "outputs": [
    {
     "name": "stdout",
     "output_type": "stream",
     "text": [
      "1727\n"
     ]
    }
   ],
   "source": [
    "print(len(preprocessed))"
   ]
  },
  {
   "cell_type": "code",
   "execution_count": 13,
   "id": "080d7f2a",
   "metadata": {},
   "outputs": [
    {
     "name": "stdout",
     "output_type": "stream",
     "text": [
      "630\n"
     ]
    }
   ],
   "source": [
    "all_words = sorted(set(preprocessed))\n",
    "vocab_size = len(all_words)\n",
    "\n",
    "print(vocab_size)"
   ]
  },
  {
   "cell_type": "code",
   "execution_count": 14,
   "id": "1e5b2414",
   "metadata": {},
   "outputs": [],
   "source": [
    "vocab = {token:integer for integer,token in enumerate(all_words)}"
   ]
  },
  {
   "cell_type": "code",
   "execution_count": 15,
   "id": "f355759f",
   "metadata": {},
   "outputs": [
    {
     "name": "stdout",
     "output_type": "stream",
     "text": [
      "('\"', 0)\n",
      "('##', 1)\n",
      "('###', 2)\n",
      "('####', 3)\n",
      "(\"'\", 4)\n",
      "('(', 5)\n",
      "(')', 6)\n",
      "('*', 7)\n",
      "(',', 8)\n",
      "('-', 9)\n",
      "('--', 10)\n",
      "('.', 11)\n",
      "('1', 12)\n",
      "('2', 13)\n",
      "('2017', 14)\n",
      "('3', 15)\n",
      "(':', 16)\n",
      "(';', 17)\n",
      "('A', 18)\n",
      "('AI', 19)\n",
      "('Addressing', 20)\n",
      "('All', 21)\n",
      "('Although', 22)\n",
      "('Architecture', 23)\n",
      "('Architectures', 24)\n",
      "('Attention', 25)\n",
      "('BERT', 26)\n",
      "('Because', 27)\n",
      "('Before', 28)\n",
      "('Beyond', 29)\n",
      "('Bias', 30)\n",
      "('Brain', 31)\n",
      "('By', 32)\n",
      "('Challenges', 33)\n",
      "('Computational', 34)\n",
      "('Conclusion', 35)\n",
      "('Consumption', 36)\n",
      "('Context', 37)\n",
      "('Cost', 38)\n",
      "('Crucially', 39)\n",
      "('Decoder', 40)\n",
      "('Deconstructing', 41)\n",
      "('Despite', 42)\n",
      "('Directions', 43)\n",
      "('Each', 44)\n",
      "('Encoder', 45)\n",
      "('Encoder-Decoder', 46)\n",
      "('Encoding', 47)\n",
      "('Energy', 48)\n",
      "('Feed-Forward', 49)\n",
      "('Fixed', 50)\n"
     ]
    }
   ],
   "source": [
    "for i, item in enumerate(vocab.items()):\n",
    "    print(item)\n",
    "    if i >= 50:\n",
    "        break"
   ]
  },
  {
   "cell_type": "code",
   "execution_count": 16,
   "id": "22f5e68f",
   "metadata": {},
   "outputs": [],
   "source": [
    "class SimpleTokenizerV1:\n",
    "    def __init__(self, vocab):\n",
    "        self.str_to_int = vocab\n",
    "        self.int_to_str = {i:s for s,i in vocab.items()}\n",
    "\n",
    "    def encode(self, text):\n",
    "        preprocessed = re.split(r'([,.:;?_!\"()\\']|\\*|--|\\s)', text)\n",
    "\n",
    "        preprocessed = [\n",
    "            item.strip() for item in preprocessed if item.strip()\n",
    "        ]\n",
    "        ids = [self.str_to_int[s] for s in preprocessed]\n",
    "        return ids\n",
    "\n",
    "    def decode(self, ids):\n",
    "        text = \" \".join([self.int_to_str[i] for i in ids])\n",
    "        # Replace spaces before the specified punctuations and asterisk\n",
    "        text = re.sub(r'\\s+([,.:;?_!\"()\\']|\\*)', r'\\1', text)\n",
    "        # Replace spaces around the double hyphen\n",
    "        text = re.sub(r'\\s+(--)\\s+', r'\\1', text)\n",
    "        return text"
   ]
  },
  {
   "cell_type": "code",
   "execution_count": 17,
   "id": "9ade7c56",
   "metadata": {},
   "outputs": [
    {
     "name": "stdout",
     "output_type": "stream",
     "text": [
      "[0, 38, 305, 82, 107, 16, 7, 7, 113, 525, 406, 326, 127, 480, 192, 622, 510, 581, 572, 529, 384, 8, 404, 571, 161, 530, 318, 605, 391, 8, 572, 195, 213, 5, 174, 408, 151, 470, 578, 6, 169, 473, 11, 115, 364, 149, 133, 158, 432, 505, 8, 622, 259, 581, 236, 414, 257, 165, 407, 5, 250, 11, 313, 11, 8, 545, 165, 8, 388, 165, 8, 165, 622, 390, 621, 6, 11, 7, 7, 7, 70, 16, 7, 7, 124, 165, 613, 181, 11]\n"
     ]
    }
   ],
   "source": [
    "tokenizer = SimpleTokenizerV1(vocab)\n",
    "\n",
    "text = \"\"\"\"Cost for Long Sequences:** The self-attention mechanism has a quadratic complexity with respect to the sequence length, meaning that as sequences get very long, the computational cost (both memory and processing time) becomes prohibitive. This is an active area of research, with efforts to develop more efficient attention mechanisms (e.g., sparse attention, linear attention, attention with local windows).\n",
    "* **Interpretability:** While attention weights can.\"\"\"\n",
    "ids = tokenizer.encode(text)\n",
    "print(ids)"
   ]
  },
  {
   "cell_type": "code",
   "execution_count": 18,
   "id": "c01c4092",
   "metadata": {},
   "outputs": [
    {
     "data": {
      "application/vnd.google.colaboratory.intrinsic+json": {
       "type": "string"
      },
      "text/plain": [
       "'\" Cost for Long Sequences:** The self-attention mechanism has a quadratic complexity with respect to the sequence length, meaning that as sequences get very long, the computational cost( both memory and processing time) becomes prohibitive. This is an active area of research, with efforts to develop more efficient attention mechanisms( e. g., sparse attention, linear attention, attention with local windows).*** Interpretability:** While attention weights can.'"
      ]
     },
     "execution_count": 18,
     "metadata": {},
     "output_type": "execute_result"
    }
   ],
   "source": [
    "tokenizer.decode(ids)"
   ]
  },
  {
   "cell_type": "code",
   "execution_count": 19,
   "id": "8eced998",
   "metadata": {},
   "outputs": [
    {
     "data": {
      "application/vnd.google.colaboratory.intrinsic+json": {
       "type": "string"
      },
      "text/plain": [
       "'\" Cost for Long Sequences:** The self-attention mechanism has a quadratic complexity with respect to the sequence length, meaning that as sequences get very long, the computational cost( both memory and processing time) becomes prohibitive. This is an active area of research, with efforts to develop more efficient attention mechanisms( e. g., sparse attention, linear attention, attention with local windows).*** Interpretability:** While attention weights can.'"
      ]
     },
     "execution_count": 19,
     "metadata": {},
     "output_type": "execute_result"
    }
   ],
   "source": [
    "tokenizer.decode(tokenizer.encode(text))"
   ]
  },
  {
   "cell_type": "code",
   "execution_count": 20,
   "id": "7b7317dc",
   "metadata": {},
   "outputs": [
    {
     "name": "stdout",
     "output_type": "stream",
     "text": [
      "The error is shown intententionally\n",
      "'Hello'\n"
     ]
    }
   ],
   "source": [
    "try:\n",
    "    tokenizer = SimpleTokenizerV1(vocab)\n",
    "    text = \"Hello, do you like tea. Is this-- a test?\"\n",
    "    tokenizer.encode(text)\n",
    "except Exception as e:\n",
    "    print(\"The error is shown intententionally\")\n",
    "    print(e)"
   ]
  },
  {
   "cell_type": "code",
   "execution_count": 21,
   "id": "2415701a",
   "metadata": {},
   "outputs": [],
   "source": [
    "all_tokens = sorted(list(set(preprocessed)))\n",
    "all_tokens.extend([\"<|endoftext|>\", \"<|unk|>\"])\n",
    "\n",
    "vocab = {token:integer for integer,token in enumerate(all_tokens)}"
   ]
  },
  {
   "cell_type": "code",
   "execution_count": 22,
   "id": "2de1515d",
   "metadata": {},
   "outputs": [
    {
     "data": {
      "text/plain": [
       "632"
      ]
     },
     "execution_count": 22,
     "metadata": {},
     "output_type": "execute_result"
    }
   ],
   "source": [
    "len(vocab.items())"
   ]
  },
  {
   "cell_type": "code",
   "execution_count": 23,
   "id": "bf2ee667",
   "metadata": {},
   "outputs": [
    {
     "name": "stdout",
     "output_type": "stream",
     "text": [
      "('work', 627)\n",
      "('works', 628)\n",
      "('year', 629)\n",
      "('<|endoftext|>', 630)\n",
      "('<|unk|>', 631)\n"
     ]
    }
   ],
   "source": [
    "for i, item in enumerate(list(vocab.items())[-5:]):\n",
    "    print(item)"
   ]
  },
  {
   "cell_type": "code",
   "execution_count": 24,
   "id": "2e959b17",
   "metadata": {},
   "outputs": [],
   "source": [
    "class SimpleTokenizerV2:\n",
    "    def __init__(self, vocab):\n",
    "        self.str_to_int = vocab\n",
    "        self.int_to_str = { i:s for s,i in vocab.items()}\n",
    "\n",
    "    def encode(self, text):\n",
    "        preprocessed = re.split(r'([,.:;?_!\"()\\']|\\*|--|\\s)', text)\n",
    "        preprocessed = [item.strip() for item in preprocessed if item.strip()]\n",
    "        preprocessed = [\n",
    "            item if item in self.str_to_int\n",
    "            else \"<|unk|>\" for item in preprocessed\n",
    "        ]\n",
    "\n",
    "        ids = [self.str_to_int[s] for s in preprocessed]\n",
    "        return ids\n",
    "\n",
    "    def decode(self, ids):\n",
    "        text = \" \".join([self.int_to_str[i] for i in ids])\n",
    "        # Replace spaces before the specified punctuations and asterisk\n",
    "        text = re.sub(r'\\s+([,.:;?_!\"()\\']|\\*)', r'\\1', text)\n",
    "        # Replace spaces around the double hyphen\n",
    "        text = re.sub(r'\\s+(--)\\s+', r'\\1', text)\n",
    "        return text"
   ]
  },
  {
   "cell_type": "code",
   "execution_count": 25,
   "id": "30f79d7f",
   "metadata": {},
   "outputs": [
    {
     "name": "stdout",
     "output_type": "stream",
     "text": [
      "Hello, do you like tea? <|endoftext|> In the sunlit terraces of the palace.\n"
     ]
    }
   ],
   "source": [
    "tokenizer = SimpleTokenizerV2(vocab)\n",
    "\n",
    "text1 = \"Hello, do you like tea?\"\n",
    "text2 = \"In the sunlit terraces of the palace.\"\n",
    "\n",
    "text = \" <|endoftext|> \".join((text1, text2))\n",
    "\n",
    "print(text)"
   ]
  },
  {
   "cell_type": "code",
   "execution_count": 26,
   "id": "4c3a8862",
   "metadata": {},
   "outputs": [
    {
     "data": {
      "text/plain": [
       "[631, 8, 631, 631, 385, 631, 631, 630, 67, 572, 631, 631, 432, 572, 631, 11]"
      ]
     },
     "execution_count": 26,
     "metadata": {},
     "output_type": "execute_result"
    }
   ],
   "source": [
    "tokenizer.encode(text)"
   ]
  },
  {
   "cell_type": "code",
   "execution_count": 27,
   "id": "59328fd4",
   "metadata": {},
   "outputs": [
    {
     "data": {
      "application/vnd.google.colaboratory.intrinsic+json": {
       "type": "string"
      },
      "text/plain": [
       "'<|unk|>, <|unk|> <|unk|> like <|unk|> <|unk|> <|endoftext|> In the <|unk|> <|unk|> of the <|unk|>.'"
      ]
     },
     "execution_count": 27,
     "metadata": {},
     "output_type": "execute_result"
    }
   ],
   "source": [
    "tokenizer.decode(tokenizer.encode(text))"
   ]
  },
  {
   "cell_type": "code",
   "execution_count": 28,
   "id": "661f9642",
   "metadata": {},
   "outputs": [
    {
     "name": "stdout",
     "output_type": "stream",
     "text": [
      "tiktoken version: 0.9.0\n"
     ]
    }
   ],
   "source": [
    "import importlib\n",
    "import tiktoken\n",
    "\n",
    "print(\"tiktoken version:\", importlib.metadata.version(\"tiktoken\"))"
   ]
  },
  {
   "cell_type": "code",
   "execution_count": 29,
   "id": "c10ad079",
   "metadata": {},
   "outputs": [],
   "source": [
    "tokenizer = tiktoken.get_encoding(\"gpt2\")"
   ]
  },
  {
   "cell_type": "code",
   "execution_count": 30,
   "id": "83da39e4",
   "metadata": {},
   "outputs": [
    {
     "name": "stdout",
     "output_type": "stream",
     "text": [
      "[15496, 11, 466, 345, 588, 8887, 30, 220, 50256, 554, 262, 4252, 18250, 8812, 2114, 1659, 617, 34680, 27271, 13]\n"
     ]
    }
   ],
   "source": [
    "text = (\n",
    "    \"Hello, do you like tea? <|endoftext|> In the sunlit terraces\"\n",
    "     \"of someunknownPlace.\"\n",
    ")\n",
    "\n",
    "integers = tokenizer.encode(text, allowed_special={\"<|endoftext|>\"})\n",
    "\n",
    "print(integers)"
   ]
  },
  {
   "cell_type": "code",
   "execution_count": 31,
   "id": "9914e479",
   "metadata": {},
   "outputs": [
    {
     "name": "stdout",
     "output_type": "stream",
     "text": [
      "Hello, do you like tea? <|endoftext|> In the sunlit terracesof someunknownPlace.\n"
     ]
    }
   ],
   "source": [
    "strings = tokenizer.decode(integers)\n",
    "\n",
    "print(strings)"
   ]
  },
  {
   "cell_type": "code",
   "execution_count": 32,
   "id": "ede97ab6",
   "metadata": {},
   "outputs": [
    {
     "name": "stdout",
     "output_type": "stream",
     "text": [
      "1979\n"
     ]
    }
   ],
   "source": [
    "with open(\"sample_data.txt\", \"r\", encoding=\"utf-8\") as f:\n",
    "    raw_text = f.read()\n",
    "\n",
    "enc_text = tokenizer.encode(raw_text)\n",
    "print(len(enc_text))"
   ]
  },
  {
   "cell_type": "code",
   "execution_count": 33,
   "id": "de3d3ba5",
   "metadata": {},
   "outputs": [],
   "source": [
    "enc_sample = enc_text[50:]"
   ]
  },
  {
   "cell_type": "code",
   "execution_count": 34,
   "id": "00aa149c",
   "metadata": {},
   "outputs": [
    {
     "name": "stdout",
     "output_type": "stream",
     "text": [
      "x: [435, 13, 422, 3012]\n",
      "y:      [13, 422, 3012, 14842]\n"
     ]
    }
   ],
   "source": [
    "context_size = 4\n",
    "\n",
    "x = enc_sample[:context_size]\n",
    "y = enc_sample[1:context_size+1]\n",
    "\n",
    "print(f\"x: {x}\")\n",
    "print(f\"y:      {y}\")"
   ]
  },
  {
   "cell_type": "code",
   "execution_count": 35,
   "id": "0f677883",
   "metadata": {},
   "outputs": [
    {
     "name": "stdout",
     "output_type": "stream",
     "text": [
      "[435] ----> 13\n",
      "[435, 13] ----> 422\n",
      "[435, 13, 422] ----> 3012\n",
      "[435, 13, 422, 3012] ----> 14842\n"
     ]
    }
   ],
   "source": [
    "for i in range(1, context_size+1):\n",
    "    context = enc_sample[:i]\n",
    "    desired = enc_sample[i]\n",
    "\n",
    "    print(context, \"---->\", desired)"
   ]
  },
  {
   "cell_type": "code",
   "execution_count": 36,
   "id": "1e35c1cf",
   "metadata": {},
   "outputs": [
    {
     "name": "stdout",
     "output_type": "stream",
     "text": [
      " al ----> .\n",
      " al. ---->  from\n",
      " al. from ---->  Google\n",
      " al. from Google ---->  Brain\n"
     ]
    }
   ],
   "source": [
    "for i in range(1, context_size+1):\n",
    "    context = enc_sample[:i]\n",
    "    desired = enc_sample[i]\n",
    "\n",
    "    print(tokenizer.decode(context), \"---->\", tokenizer.decode([desired]))"
   ]
  },
  {
   "cell_type": "code",
   "execution_count": 37,
   "id": "ebe4df49",
   "metadata": {},
   "outputs": [
    {
     "name": "stdout",
     "output_type": "stream",
     "text": [
      "PyTorch version: 2.6.0+cu124\n"
     ]
    }
   ],
   "source": [
    "import torch\n",
    "print(\"PyTorch version:\", torch.__version__)"
   ]
  },
  {
   "cell_type": "code",
   "execution_count": 38,
   "id": "6e1acb4b",
   "metadata": {},
   "outputs": [],
   "source": [
    "from torch.utils.data import Dataset, DataLoader\n",
    "\n",
    "\n",
    "class GPTDatasetV1(Dataset):\n",
    "    def __init__(self, txt, tokenizer, max_length, stride):\n",
    "        self.input_ids = []\n",
    "        self.target_ids = []\n",
    "\n",
    "        # Tokenize the entire text\n",
    "        token_ids = tokenizer.encode(txt, allowed_special={\"<|endoftext|>\"})\n",
    "        assert len(token_ids) > max_length, \"Number of tokenized inputs must at least be equal to max_length+1\"\n",
    "\n",
    "        # Use a sliding window to chunk the book into overlapping sequences of max_length\n",
    "        for i in range(0, len(token_ids) - max_length, stride):\n",
    "            input_chunk = token_ids[i:i + max_length]\n",
    "            target_chunk = token_ids[i + 1: i + max_length + 1]\n",
    "            self.input_ids.append(torch.tensor(input_chunk))\n",
    "            self.target_ids.append(torch.tensor(target_chunk))\n",
    "\n",
    "    def __len__(self):\n",
    "        return len(self.input_ids)\n",
    "\n",
    "    def __getitem__(self, idx):\n",
    "        return self.input_ids[idx], self.target_ids[idx]"
   ]
  },
  {
   "cell_type": "code",
   "execution_count": 39,
   "id": "44f69105",
   "metadata": {},
   "outputs": [],
   "source": [
    "def create_dataloader_v1(txt, batch_size=4, max_length=256,\n",
    "                         stride=128, shuffle=True, drop_last=True,\n",
    "                         num_workers=0):\n",
    "\n",
    "    # Initialize the tokenizer\n",
    "    tokenizer = tiktoken.get_encoding(\"gpt2\")\n",
    "\n",
    "    # Create dataset\n",
    "    dataset = GPTDatasetV1(txt, tokenizer, max_length, stride)\n",
    "\n",
    "    # Create dataloader\n",
    "    dataloader = DataLoader(\n",
    "        dataset,\n",
    "        batch_size=batch_size,\n",
    "        shuffle=shuffle,\n",
    "        drop_last=drop_last,\n",
    "        num_workers=num_workers\n",
    "    )\n",
    "\n",
    "    return dataloader"
   ]
  },
  {
   "cell_type": "code",
   "execution_count": 40,
   "id": "de5cda02",
   "metadata": {},
   "outputs": [],
   "source": [
    "with open(\"sample_data.txt\", \"r\", encoding=\"utf-8\") as f:\n",
    "    raw_text = f.read()"
   ]
  },
  {
   "cell_type": "code",
   "execution_count": 41,
   "id": "8f60c16b",
   "metadata": {},
   "outputs": [
    {
     "name": "stdout",
     "output_type": "stream",
     "text": [
      "[tensor([[  198,  2235, 47406,  1148]]), tensor([[ 2235, 47406,  1148,  1439]])]\n"
     ]
    }
   ],
   "source": [
    "dataloader = create_dataloader_v1(\n",
    "    raw_text, batch_size=1, max_length=4, stride=1, shuffle=False\n",
    ")\n",
    "\n",
    "data_iter = iter(dataloader)\n",
    "first_batch = next(data_iter)\n",
    "print(first_batch)"
   ]
  },
  {
   "cell_type": "code",
   "execution_count": 42,
   "id": "d7e184c3",
   "metadata": {},
   "outputs": [
    {
     "name": "stdout",
     "output_type": "stream",
     "text": [
      "[tensor([[ 2235, 47406,  1148,  1439]]), tensor([[47406,  1148,  1439,   921]])]\n"
     ]
    }
   ],
   "source": [
    "second_batch = next(data_iter)\n",
    "print(second_batch)"
   ]
  },
  {
   "cell_type": "code",
   "execution_count": 43,
   "id": "9c85e314",
   "metadata": {},
   "outputs": [
    {
     "name": "stdout",
     "output_type": "stream",
     "text": [
      "Inputs:\n",
      " tensor([[  198,  2235, 47406,  1148],\n",
      "        [ 1439,   921, 10664,    25],\n",
      "        [  317, 14853, 17225, 15576],\n",
      "        [  287, 45835,  9104,   278],\n",
      "        [  198,   198,   464,   614],\n",
      "        [ 2177,  7498,   257, 28992],\n",
      "        [ 2589,   287,   262,  2106],\n",
      "        [  286,  2769,  4673,   351]])\n",
      "\n",
      "Targets:\n",
      " tensor([[ 2235, 47406,  1148,  1439],\n",
      "        [  921, 10664,    25,   317],\n",
      "        [14853, 17225, 15576,   287],\n",
      "        [45835,  9104,   278,   198],\n",
      "        [  198,   464,   614,  2177],\n",
      "        [ 7498,   257, 28992,  2589],\n",
      "        [  287,   262,  2106,   286],\n",
      "        [ 2769,  4673,   351,   262]])\n"
     ]
    }
   ],
   "source": [
    "dataloader = create_dataloader_v1(raw_text, batch_size=8, max_length=4, stride=4, shuffle=False)\n",
    "\n",
    "data_iter = iter(dataloader)\n",
    "inputs, targets = next(data_iter)\n",
    "print(\"Inputs:\\n\", inputs)\n",
    "print(\"\\nTargets:\\n\", targets)"
   ]
  },
  {
   "cell_type": "code",
   "execution_count": 44,
   "id": "43e6b25e",
   "metadata": {},
   "outputs": [],
   "source": [
    "input_ids = torch.tensor([2, 3, 5, 1])"
   ]
  },
  {
   "cell_type": "code",
   "execution_count": 45,
   "id": "a344c602",
   "metadata": {},
   "outputs": [],
   "source": [
    "vocab_size = 6\n",
    "output_dim = 3\n",
    "\n",
    "torch.manual_seed(123)\n",
    "embedding_layer = torch.nn.Embedding(vocab_size, output_dim)"
   ]
  },
  {
   "cell_type": "code",
   "execution_count": 46,
   "id": "6f8aea46",
   "metadata": {},
   "outputs": [
    {
     "name": "stdout",
     "output_type": "stream",
     "text": [
      "Parameter containing:\n",
      "tensor([[ 0.3374, -0.1778, -0.1690],\n",
      "        [ 0.9178,  1.5810,  1.3010],\n",
      "        [ 1.2753, -0.2010, -0.1606],\n",
      "        [-0.4015,  0.9666, -1.1481],\n",
      "        [-1.1589,  0.3255, -0.6315],\n",
      "        [-2.8400, -0.7849, -1.4096]], requires_grad=True)\n"
     ]
    }
   ],
   "source": [
    "print(embedding_layer.weight)"
   ]
  },
  {
   "cell_type": "code",
   "execution_count": 47,
   "id": "0a1828a3",
   "metadata": {},
   "outputs": [
    {
     "name": "stdout",
     "output_type": "stream",
     "text": [
      "tensor([[-0.4015,  0.9666, -1.1481]], grad_fn=<EmbeddingBackward0>)\n"
     ]
    }
   ],
   "source": [
    "print(embedding_layer(torch.tensor([3])))"
   ]
  },
  {
   "cell_type": "code",
   "execution_count": 48,
   "id": "a0218734",
   "metadata": {},
   "outputs": [
    {
     "name": "stdout",
     "output_type": "stream",
     "text": [
      "tensor([[ 1.2753, -0.2010, -0.1606],\n",
      "        [-0.4015,  0.9666, -1.1481],\n",
      "        [-2.8400, -0.7849, -1.4096],\n",
      "        [ 0.9178,  1.5810,  1.3010]], grad_fn=<EmbeddingBackward0>)\n"
     ]
    }
   ],
   "source": [
    "print(embedding_layer(input_ids))"
   ]
  },
  {
   "cell_type": "code",
   "execution_count": 49,
   "id": "6e9a787c",
   "metadata": {},
   "outputs": [],
   "source": [
    "vocab_size = 50257\n",
    "output_dim = 256\n",
    "\n",
    "token_embedding_layer = torch.nn.Embedding(vocab_size, output_dim)"
   ]
  },
  {
   "cell_type": "code",
   "execution_count": 50,
   "id": "5257828a",
   "metadata": {},
   "outputs": [],
   "source": [
    "max_length = 4\n",
    "dataloader = create_dataloader_v1(\n",
    "    raw_text, batch_size=8, max_length=max_length,\n",
    "    stride=max_length, shuffle=False\n",
    ")\n",
    "data_iter = iter(dataloader)\n",
    "inputs, targets = next(data_iter)"
   ]
  },
  {
   "cell_type": "code",
   "execution_count": 51,
   "id": "476bf9c9",
   "metadata": {},
   "outputs": [
    {
     "name": "stdout",
     "output_type": "stream",
     "text": [
      "Token IDs:\n",
      " tensor([[  198,  2235, 47406,  1148],\n",
      "        [ 1439,   921, 10664,    25],\n",
      "        [  317, 14853, 17225, 15576],\n",
      "        [  287, 45835,  9104,   278],\n",
      "        [  198,   198,   464,   614],\n",
      "        [ 2177,  7498,   257, 28992],\n",
      "        [ 2589,   287,   262,  2106],\n",
      "        [  286,  2769,  4673,   351]])\n",
      "\n",
      "Inputs shape:\n",
      " torch.Size([8, 4])\n"
     ]
    }
   ],
   "source": [
    "print(\"Token IDs:\\n\", inputs)\n",
    "print(\"\\nInputs shape:\\n\", inputs.shape)"
   ]
  },
  {
   "cell_type": "code",
   "execution_count": 52,
   "id": "6681f5c1",
   "metadata": {},
   "outputs": [
    {
     "name": "stdout",
     "output_type": "stream",
     "text": [
      "torch.Size([8, 4, 256])\n",
      "tensor([[[-1.4371e-01, -9.7823e-01,  1.5918e+00,  ...,  3.0685e-01,\n",
      "          -1.1135e+00, -7.2020e-01],\n",
      "         [ 1.3515e+00,  8.6397e-01,  4.1770e-01,  ..., -3.9139e-01,\n",
      "           9.5636e-02, -3.3542e-02],\n",
      "         [-3.8940e-04,  8.2426e-01,  9.0248e-01,  ...,  4.5783e-01,\n",
      "          -6.3047e-01, -2.1045e+00],\n",
      "         [ 8.2668e-01,  4.9122e-01, -2.9964e-01,  ...,  9.0921e-01,\n",
      "           8.7955e-01, -1.9174e-01]],\n",
      "\n",
      "        [[ 1.6907e+00,  3.8105e-01,  1.9504e+00,  ..., -1.0960e+00,\n",
      "           2.1464e-01,  1.5693e-01],\n",
      "         [-3.6616e-02,  7.1712e-01,  4.4482e-02,  ..., -1.9617e+00,\n",
      "          -1.0782e+00,  2.0892e+00],\n",
      "         [ 1.1372e+00, -7.7334e-01,  1.5494e-01,  ..., -1.6836e-01,\n",
      "           7.7261e-01, -4.6987e-01],\n",
      "         [-8.4685e-02,  1.5248e+00,  1.6626e-01,  ...,  1.4983e-01,\n",
      "          -7.4181e-01,  2.1374e+00]],\n",
      "\n",
      "        [[ 1.9074e+00, -1.3086e-01,  1.5360e+00,  ...,  9.3841e-01,\n",
      "           1.8633e+00,  5.6408e-01],\n",
      "         [ 2.0162e-01, -2.5551e-02,  3.2724e-01,  ..., -2.1875e-01,\n",
      "          -1.3422e+00,  1.3232e+00],\n",
      "         [-1.7362e+00, -7.6771e-02,  1.4145e+00,  ..., -1.1724e+00,\n",
      "           5.8214e-01,  1.2475e+00],\n",
      "         [-1.2146e+00,  2.1069e+00,  3.4585e-01,  ...,  2.0120e+00,\n",
      "           7.4900e-01, -1.3268e+00]],\n",
      "\n",
      "        ...,\n",
      "\n",
      "        [[-6.2723e-01, -6.1613e-01, -1.3955e+00,  ...,  7.7228e-02,\n",
      "          -3.9421e-01, -2.8506e-01],\n",
      "         [ 2.5151e-01,  5.3746e-01, -7.9553e-01,  ...,  2.1403e+00,\n",
      "          -2.6192e-01,  1.0188e+00],\n",
      "         [ 7.9460e-02, -1.7636e+00,  5.7498e-01,  ...,  2.1823e+00,\n",
      "           1.8231e+00, -3.6347e-01],\n",
      "         [ 8.8012e-01,  2.9446e-01,  4.5561e-01,  ..., -1.0434e+00,\n",
      "          -1.8058e-01, -2.2870e-01]],\n",
      "\n",
      "        [[-9.2238e-01, -2.4146e+00,  5.4229e-01,  ..., -5.6253e-01,\n",
      "           4.7742e-01,  7.0331e-01],\n",
      "         [-9.7723e-01,  1.3130e-01, -5.9858e-01,  ..., -5.4978e-01,\n",
      "          -1.1856e-02,  2.1696e-01],\n",
      "         [-3.9616e-01,  5.5931e-01,  3.4120e+00,  ...,  6.1461e-01,\n",
      "          -3.9812e-01,  7.9994e-01],\n",
      "         [-6.9852e-01,  7.4922e-02, -1.4359e+00,  ...,  1.4382e+00,\n",
      "           5.5710e-01,  9.1635e-02]],\n",
      "\n",
      "        [[-5.5941e-01,  1.2612e+00, -9.6166e-01,  ..., -8.8642e-01,\n",
      "          -4.2649e-02, -2.1107e+00],\n",
      "         [ 1.5927e-01, -9.6213e-01, -7.4336e-01,  ..., -4.7232e-01,\n",
      "           5.3222e-01,  5.9071e-01],\n",
      "         [ 3.2969e-01, -5.0329e-01, -1.6578e+00,  ...,  2.3887e-01,\n",
      "           1.8587e-01, -1.3776e+00],\n",
      "         [ 2.7603e-01, -2.6125e-02, -3.6996e-01,  ...,  2.2365e+00,\n",
      "           6.5591e-01, -3.6722e-04]]], grad_fn=<EmbeddingBackward0>)\n"
     ]
    }
   ],
   "source": [
    "token_embeddings = token_embedding_layer(inputs)\n",
    "print(token_embeddings.shape)\n",
    "\n",
    "print(token_embeddings)"
   ]
  },
  {
   "cell_type": "code",
   "execution_count": 53,
   "id": "3ecb5056",
   "metadata": {},
   "outputs": [
    {
     "name": "stdout",
     "output_type": "stream",
     "text": [
      "Parameter containing:\n",
      "tensor([[ 1.7375, -0.5620, -0.6303,  ..., -0.2277,  1.5748,  1.0345],\n",
      "        [ 1.6423, -0.7201,  0.2062,  ...,  0.4118,  0.1498, -0.4628],\n",
      "        [-0.4651, -0.7757,  0.5806,  ...,  1.4335, -0.4963,  0.8579],\n",
      "        [-0.6754, -0.4628,  1.4323,  ...,  0.8139, -0.7088,  0.4827]],\n",
      "       requires_grad=True)\n"
     ]
    }
   ],
   "source": [
    "context_length = max_length\n",
    "pos_embedding_layer = torch.nn.Embedding(context_length, output_dim)\n",
    "\n",
    "print(pos_embedding_layer.weight)"
   ]
  },
  {
   "cell_type": "code",
   "execution_count": 54,
   "id": "249dab5a",
   "metadata": {},
   "outputs": [
    {
     "name": "stdout",
     "output_type": "stream",
     "text": [
      "torch.Size([4, 256])\n",
      "tensor([[ 1.7375, -0.5620, -0.6303,  ..., -0.2277,  1.5748,  1.0345],\n",
      "        [ 1.6423, -0.7201,  0.2062,  ...,  0.4118,  0.1498, -0.4628],\n",
      "        [-0.4651, -0.7757,  0.5806,  ...,  1.4335, -0.4963,  0.8579],\n",
      "        [-0.6754, -0.4628,  1.4323,  ...,  0.8139, -0.7088,  0.4827]],\n",
      "       grad_fn=<EmbeddingBackward0>)\n"
     ]
    }
   ],
   "source": [
    "pos_embeddings = pos_embedding_layer(torch.arange(max_length))\n",
    "print(pos_embeddings.shape)\n",
    "print(pos_embeddings)"
   ]
  },
  {
   "cell_type": "markdown",
   "id": "d09c66ca",
   "metadata": {
    "id": "LrLKkXdhiABW"
   },
   "source": [
    "# Chapter 3: Implementing Self Attention"
   ]
  }
 ],
 "metadata": {},
 "nbformat": 4,
 "nbformat_minor": 5
}
